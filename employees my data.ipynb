{
 "cells": [
  {
   "cell_type": "code",
   "execution_count": null,
   "id": "f7fc7835",
   "metadata": {},
   "outputs": [],
   "source": [
    "import pandas as pd\n",
    "from matplotlib import pyplot as plt\n",
    "import seaborn as sns\n"
   ]
  },
  {
   "cell_type": "code",
   "execution_count": null,
   "id": "8c9e30fd",
   "metadata": {},
   "outputs": [],
   "source": [
    "import openpyxl"
   ]
  },
  {
   "cell_type": "code",
   "execution_count": null,
   "id": "d1c728b3",
   "metadata": {},
   "outputs": [],
   "source": [
    "!pip install xlrd==1.2.0"
   ]
  },
  {
   "cell_type": "code",
   "execution_count": null,
   "id": "ebec0d78",
   "metadata": {},
   "outputs": [],
   "source": [
    "import xlrd"
   ]
  },
  {
   "cell_type": "code",
   "execution_count": null,
   "id": "dc130aec",
   "metadata": {},
   "outputs": [],
   "source": [
    "employees = pd.read_excel(\"employee_data.xlsx\")"
   ]
  },
  {
   "cell_type": "code",
   "execution_count": null,
   "id": "47fed6b3",
   "metadata": {},
   "outputs": [],
   "source": [
    "employees.head()"
   ]
  },
  {
   "cell_type": "code",
   "execution_count": null,
   "id": "0d34a3fb",
   "metadata": {},
   "outputs": [],
   "source": [
    "type(employees)"
   ]
  },
  {
   "cell_type": "code",
   "execution_count": null,
   "id": "162cee65",
   "metadata": {},
   "outputs": [],
   "source": [
    "for col in employees.columns:\n",
    "    print(col)"
   ]
  },
  {
   "cell_type": "code",
   "execution_count": null,
   "id": "93524ff4",
   "metadata": {},
   "outputs": [],
   "source": [
    "employees = pd.read_excel(\"employee_data.xlsx\",\n",
    "                         usecols = ['First Name', 'Last Name', 'Salary'],\n",
    "                         index_col = 'First Name')\n",
    "employees"
   ]
  },
  {
   "cell_type": "code",
   "execution_count": null,
   "id": "636b343a",
   "metadata": {},
   "outputs": [],
   "source": [
    "employees = pd.read_excel(\"employee_data.xlsx\")\n",
    "employees.shape"
   ]
  },
  {
   "cell_type": "code",
   "execution_count": null,
   "id": "b273ed50",
   "metadata": {},
   "outputs": [],
   "source": [
    "employees.sort_values(by=['Gender'], ascending = True).head()"
   ]
  },
  {
   "cell_type": "code",
   "execution_count": null,
   "id": "a4a0ef19",
   "metadata": {},
   "outputs": [],
   "source": [
    "sns.histplot(employees['Salary'], color = 'red')\n",
    "\n",
    "plt.show()"
   ]
  },
  {
   "cell_type": "code",
   "execution_count": null,
   "id": "6c079dc9",
   "metadata": {},
   "outputs": [],
   "source": [
    "sns.pairplot(employees[[\"Salary\", \"Expenditure\", \"Savings\"]])\n",
    "plt.show()"
   ]
  },
  {
   "cell_type": "code",
   "execution_count": null,
   "id": "dfc14748",
   "metadata": {},
   "outputs": [],
   "source": [
    "sns.boxplot(data = employees, x = \"Gender\", y = \"Salary\")\n",
    "plt.show()"
   ]
  },
  {
   "cell_type": "code",
   "execution_count": null,
   "id": "5a8960b8",
   "metadata": {},
   "outputs": [],
   "source": [
    "plt.figure(figsize = (15,5))\n",
    "sns.countplot(employees, x = \"Expenditure\")\n",
    "plt.show()"
   ]
  },
  {
   "cell_type": "code",
   "execution_count": null,
   "id": "ddda6d6c",
   "metadata": {},
   "outputs": [],
   "source": [
    "employees['Salary']==35000"
   ]
  },
  {
   "cell_type": "code",
   "execution_count": null,
   "id": "f93ba203",
   "metadata": {},
   "outputs": [],
   "source": [
    "plt.figure(figsize = (20,5))\n",
    "sns.lmplot(employees, x = \"Salary\", y = \"Savings\", hue = \"Gender\")\n",
    "plt.show()"
   ]
  },
  {
   "cell_type": "code",
   "execution_count": null,
   "id": "dceb1ab2",
   "metadata": {},
   "outputs": [],
   "source": []
  },
  {
   "cell_type": "code",
   "execution_count": null,
   "id": "72f59858",
   "metadata": {},
   "outputs": [],
   "source": []
  }
 ],
 "metadata": {
  "kernelspec": {
   "display_name": "Python 3 (ipykernel)",
   "language": "python",
   "name": "python3"
  },
  "language_info": {
   "codemirror_mode": {
    "name": "ipython",
    "version": 3
   },
   "file_extension": ".py",
   "mimetype": "text/x-python",
   "name": "python",
   "nbconvert_exporter": "python",
   "pygments_lexer": "ipython3",
   "version": "3.10.9"
  }
 },
 "nbformat": 4,
 "nbformat_minor": 5
}
